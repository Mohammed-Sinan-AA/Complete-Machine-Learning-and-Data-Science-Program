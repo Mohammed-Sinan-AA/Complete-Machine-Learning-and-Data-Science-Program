{
 "cells": [
  {
   "cell_type": "markdown",
   "id": "bc3cdac4",
   "metadata": {},
   "source": [
    "# For Loop - 1"
   ]
  },
  {
   "cell_type": "code",
   "execution_count": 1,
   "id": "f5f57569",
   "metadata": {},
   "outputs": [],
   "source": [
    "def utility():\n",
    "    n=int(input())\n",
    "    ## in is a membership operator that is true if something is a member of sequence\n",
    "    for i in range(1,11): ## i in range(x,y,z) means i goes from x to y-1 and increments z steps in each iteration\n",
    "        print(i*n, end=\" \") ## Separating by spaces using end =\" \"\n",
    "        \n"
   ]
  },
  {
   "cell_type": "markdown",
   "id": "545ee22a",
   "metadata": {},
   "source": [
    "# For Loop - 2"
   ]
  },
  {
   "cell_type": "code",
   "execution_count": 2,
   "id": "56a5ac69",
   "metadata": {},
   "outputs": [],
   "source": [
    "def utility():\n",
    "    #The line below takes input. Don't change it!\n",
    "    s=input().strip()\n",
    "    \n",
    "    \n",
    "    for i in range(0,len(s),2): ## from 0 to length of str and skip 2\n",
    "        print(s[i], end=\"\")##printing character and separating characters by nothing"
   ]
  },
  {
   "cell_type": "markdown",
   "id": "faa1a28e",
   "metadata": {},
   "source": [
    "# While Loop"
   ]
  },
  {
   "cell_type": "code",
   "execution_count": 3,
   "id": "3db63f07",
   "metadata": {},
   "outputs": [],
   "source": [
    "def utility():\n",
    "    x=int(input())\n",
    "    while(x >= 0):\n",
    "        print(x, end = \" \")\n",
    "        x -= 1"
   ]
  }
 ],
 "metadata": {
  "kernelspec": {
   "display_name": "Python 3 (ipykernel)",
   "language": "python",
   "name": "python3"
  },
  "language_info": {
   "codemirror_mode": {
    "name": "ipython",
    "version": 3
   },
   "file_extension": ".py",
   "mimetype": "text/x-python",
   "name": "python",
   "nbconvert_exporter": "python",
   "pygments_lexer": "ipython3",
   "version": "3.9.12"
  }
 },
 "nbformat": 4,
 "nbformat_minor": 5
}
