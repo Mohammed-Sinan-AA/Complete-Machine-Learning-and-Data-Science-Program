{
 "cells": [
  {
   "cell_type": "markdown",
   "id": "96ea7c73",
   "metadata": {},
   "source": [
    "Q1 - What is the primary purpose of the Python set data type?\n",
    "\n",
    "C. To store unique and unordered elements.\n",
    "\n",
    "Q2 - Which of the following is an example of a mutable data type in Python?\n",
    "\n",
    "D. List\n",
    "\n",
    "Q3 - What does the // operator do in Python?\n",
    "\n",
    "B. Floor division\n",
    "\n",
    "Q4 - Which operator is used for exponentiation in Python?\n",
    "\n",
    "B. **\n",
    "\n",
    "Q5 - Which function is used for converting a value to an integer in Python?\n",
    "\n",
    "A. into\n",
    "\n",
    "Q6 - What will be the result of the following expression in Python: float(\"3.14\")?\n",
    "\n",
    "A. 3.14\n",
    "\n",
    "Q7 - Which of the following methods is used to find the index of the first occurrence of a substring in a Python string if not found return -1 ?\n",
    "\n",
    "A. find()\n",
    "\n",
    "Q8 - What does the strip() method do when applied to a Python string?\n",
    "\n",
    "A. Removes leading and trailing whitespaces\n",
    "\n",
    "Q9 - In Python, variable names are case-sensitive. What does this mean?\n",
    "\n",
    "C. Variable names can be written using a mix of uppercase and lowercase letters, and these are considered distinct.\n",
    "\n",
    "Q10 - What is the scope of a variable in Python?\n",
    "\n",
    "C. The scope of a variable is the part of\n",
    "the program where the variable can be\n",
    "accessed."
   ]
  }
 ],
 "metadata": {
  "kernelspec": {
   "display_name": "Python 3 (ipykernel)",
   "language": "python",
   "name": "python3"
  },
  "language_info": {
   "codemirror_mode": {
    "name": "ipython",
    "version": 3
   },
   "file_extension": ".py",
   "mimetype": "text/x-python",
   "name": "python",
   "nbconvert_exporter": "python",
   "pygments_lexer": "ipython3",
   "version": "3.9.12"
  }
 },
 "nbformat": 4,
 "nbformat_minor": 5
}
