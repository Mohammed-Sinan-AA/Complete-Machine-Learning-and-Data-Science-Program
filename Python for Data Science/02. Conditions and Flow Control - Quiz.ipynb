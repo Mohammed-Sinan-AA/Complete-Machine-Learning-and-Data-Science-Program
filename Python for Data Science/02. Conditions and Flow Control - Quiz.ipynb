{
 "cells": [
  {
   "cell_type": "markdown",
   "id": "b21ecd94",
   "metadata": {},
   "source": [
    "Q1-What is the purpose of the else clause in a Python if-else statement?\n",
    "\n",
    "C. It is executed when none of the preceding if or elif conditions are true.\n",
    "\n",
    "Q2-What is the purpose of the elif keyword in a Python if-elif-else statement?\n",
    "\n",
    "A. It is short for \"else if\" and is used to check multiple conditions sequentially.\n",
    "\n",
    "Q3-Which of the following statements is true regarding the if-else statement in Python?\n",
    "\n",
    "C. Either the if block or the else block will be executed, but not both.\n",
    "\n",
    "Q4-What is the purpose of the range() function in a Python for loop?\n",
    "\n",
    "C. To create a sequence of numbers over which the loop will iterate.\n",
    "\n",
    "Q5-What does the continue statement do in a Python for loop?\n",
    "\n",
    "B. It skips the rest of the code in the loop and proceeds to the next iteration.\n",
    "\n",
    "Q6-ln a Python for loop, which method is used to iterate over the elements of an iterable (e.g., a list or a string) and retrieve both the index and the value?\n",
    "\n",
    "A. enumerate()\n",
    "\n",
    "Q7-What is the primary purpose of a while loop in Python?\n",
    "\n",
    "D. To repeatedly execute a block of code as long as a condition is true.\n",
    "\n",
    "Q8-What is the purpose of the break statement in a while loop?\n",
    "\n",
    "C. To exit the loop prematurely.\n",
    "\n",
    "Q9-ln a while loop, when is the condition checked?\n",
    "\n",
    "A. Before each iteration.\n",
    "\n",
    "Q10-What is the purpose of the else clause in a while loop?\n",
    "\n",
    "C. It is executed when the loop condition becomes false."
   ]
  }
 ],
 "metadata": {
  "kernelspec": {
   "display_name": "Python 3 (ipykernel)",
   "language": "python",
   "name": "python3"
  },
  "language_info": {
   "codemirror_mode": {
    "name": "ipython",
    "version": 3
   },
   "file_extension": ".py",
   "mimetype": "text/x-python",
   "name": "python",
   "nbconvert_exporter": "python",
   "pygments_lexer": "ipython3",
   "version": "3.9.12"
  }
 },
 "nbformat": 4,
 "nbformat_minor": 5
}
