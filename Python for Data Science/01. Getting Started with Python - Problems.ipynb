{
 "cells": [
  {
   "cell_type": "markdown",
   "id": "d80d41b8",
   "metadata": {},
   "source": [
    "# Arithmetic Operators"
   ]
  },
  {
   "cell_type": "code",
   "execution_count": 2,
   "id": "564f95db",
   "metadata": {},
   "outputs": [],
   "source": [
    "#User function Template for python3\n",
    "import math\n",
    "def utility():\n",
    "    #The below code takes input of x and y. Don't change it!\n",
    "    x=int(input())\n",
    "    y=int(input())\n",
    "    \n",
    "    # Perform addition x+y below\n",
    "    p = x+y\n",
    "    # Perform subtraction x-y below\n",
    "    q = x-y\n",
    "    # Perform multiplication x*y below\n",
    "    r = x*y\n",
    "    # Perform float division x/y below\n",
    "    s = x/y\n",
    "    # Perform integer divison x//y below\n",
    "    t = x//y\n",
    "    # Perform modulo operation x%y below\n",
    "    u = x%y\n",
    "    # Perform power(x,y) x**y below\n",
    "    v = pow(x,y)\n",
    "    \n",
    "    #The below code prints the output. Don't change it!\n",
    "    print(p,q,r,\"{:.5f}\".format(s),t,u,v)"
   ]
  },
  {
   "cell_type": "markdown",
   "id": "0e24ff57",
   "metadata": {},
   "source": [
    "# Bitwise Operators "
   ]
  },
  {
   "cell_type": "code",
   "execution_count": 3,
   "id": "f2f64fd5",
   "metadata": {},
   "outputs": [],
   "source": [
    "#User function Template for python3\n",
    "import math\n",
    "def utility():\n",
    "    #The below code takes input of x and y. Don't change it!\n",
    "    x=int(input())\n",
    "    y=int(input())\n",
    "    \n",
    "    # Perform addition x+y below\n",
    "    p = x+y\n",
    "    # Perform subtraction x-y below\n",
    "    q = x-y\n",
    "    # Perform multiplication x*y below\n",
    "    r = x*y\n",
    "    # Perform float division x/y below\n",
    "    s = x/y\n",
    "    # Perform integer divison x//y below\n",
    "    t = x//y\n",
    "    # Perform modulo operation x%y below\n",
    "    u = x%y\n",
    "    # Perform power(x,y) x**y below\n",
    "    v = pow(x,y)\n",
    "    \n",
    "    #The below code prints the output. Don't change it!\n",
    "    print(p,q,r,\"{:.5f}\".format(s),t,u,v)\n"
   ]
  },
  {
   "cell_type": "markdown",
   "id": "27767fcb",
   "metadata": {},
   "source": [
    "# Logical Operators "
   ]
  },
  {
   "cell_type": "code",
   "execution_count": 4,
   "id": "51454a64",
   "metadata": {},
   "outputs": [],
   "source": [
    "def utility():\n",
    "    #The two lines below take input. Don't change them!\n",
    "    a=int(input())\n",
    "    b=int(input())\n",
    "    \n",
    "    #Do a and b below\n",
    "    p = a and b\n",
    "    #Do a or b below\n",
    "    q = a or b\n",
    "    #Do not a below\n",
    "    r = not a\n",
    "\n",
    "    #The code below prints the output. Don't change it!\n",
    "    print(p,q,r)"
   ]
  },
  {
   "cell_type": "markdown",
   "id": "7606c303",
   "metadata": {},
   "source": [
    "# Taking input and typecasting - Python\n"
   ]
  },
  {
   "cell_type": "code",
   "execution_count": 5,
   "id": "1ac89ce7",
   "metadata": {},
   "outputs": [],
   "source": [
    "def utility():\n",
    "    #The two lines below take input. Don't change them!\n",
    "    a=int(input())\n",
    "    b=int(input())\n",
    "    \n",
    "    #Do a and b below\n",
    "    p = a and b\n",
    "    #Do a or b below\n",
    "    q = a or b\n",
    "    #Do not a below\n",
    "    r = not a\n",
    "\n",
    "    #The code below prints the output. Don't change it!\n",
    "    print(p,q,r)"
   ]
  },
  {
   "cell_type": "markdown",
   "id": "aa08c0a0",
   "metadata": {},
   "source": [
    "# Reverse String\n",
    " "
   ]
  },
  {
   "cell_type": "code",
   "execution_count": 6,
   "id": "4631789b",
   "metadata": {},
   "outputs": [],
   "source": [
    "def reverseString(s):\n",
    "    return(s[::-1])"
   ]
  },
  {
   "cell_type": "markdown",
   "id": "4f3ee1e4",
   "metadata": {},
   "source": [
    "# Check Palindrome\n"
   ]
  },
  {
   "cell_type": "code",
   "execution_count": 7,
   "id": "b1eef34a",
   "metadata": {},
   "outputs": [],
   "source": [
    "class Solution:\n",
    "    def isPalin(self,N):\n",
    "        #code here\n",
    "        n = str(N)\n",
    "        if n == n[::-1]:\n",
    "            return 1\n",
    "        else:\n",
    "            return 0"
   ]
  },
  {
   "cell_type": "markdown",
   "id": "b1e0bb27",
   "metadata": {},
   "source": [
    "# Find patterns\n",
    " "
   ]
  },
  {
   "cell_type": "code",
   "execution_count": 8,
   "id": "a44ef7c9",
   "metadata": {},
   "outputs": [],
   "source": [
    "class Solution:\n",
    "    def numberOfSubsequences (self,S,W):\n",
    "        # code here \n",
    "        m, n = len(W), len(S)\n",
    "        c,i,j=0,0,0\n",
    "        arr = [0] * n\n",
    "        while i < n:\n",
    "            if S[i] == W[j] and not arr[i]:\n",
    "                arr[i] = 1\n",
    "                j += 1\n",
    "            i += 1\n",
    "            if j == m:\n",
    "                i = 0\n",
    "                j = 0\n",
    "                c += 1\n",
    "        return c"
   ]
  },
  {
   "cell_type": "markdown",
   "id": "f42de573",
   "metadata": {},
   "source": [
    "# Slice The String\n"
   ]
  },
  {
   "cell_type": "code",
   "execution_count": 9,
   "id": "9c5bfe3a",
   "metadata": {},
   "outputs": [],
   "source": [
    "def sliceString(s):\n",
    "    #Write your code below\n",
    "    return s[1:-1]"
   ]
  },
  {
   "cell_type": "markdown",
   "id": "dddd2b5e",
   "metadata": {},
   "source": [
    "# Change Case\n",
    " "
   ]
  },
  {
   "cell_type": "code",
   "execution_count": 10,
   "id": "a69dbca2",
   "metadata": {},
   "outputs": [],
   "source": [
    "def changeCase(s):\n",
    "    print(s.capitalize())\n",
    "    print(s.upper())\n",
    "    # code here to print capitalized,  and then in the upper case"
   ]
  },
  {
   "cell_type": "markdown",
   "id": "5c127e07",
   "metadata": {},
   "source": [
    "# Print Alphabets\n"
   ]
  },
  {
   "cell_type": "code",
   "execution_count": 11,
   "id": "8f3a28d9",
   "metadata": {},
   "outputs": [],
   "source": [
    "def alphabets(c1,c2):\n",
    "    ascii_c1 = ord(c1)\n",
    "    ascii_c2 = ord(c2)\n",
    "    if ascii_c1 > ascii_c2:\n",
    "        ascii_c1, ascii_c2 = ascii_c2, ascii_c1\n",
    "    for char_code in range(ascii_c1, ascii_c2 + 1):\n",
    "        print(chr(char_code), end=\" \")"
   ]
  },
  {
   "cell_type": "code",
   "execution_count": null,
   "id": "1a248d2a",
   "metadata": {},
   "outputs": [],
   "source": []
  }
 ],
 "metadata": {
  "kernelspec": {
   "display_name": "Python 3 (ipykernel)",
   "language": "python",
   "name": "python3"
  },
  "language_info": {
   "codemirror_mode": {
    "name": "ipython",
    "version": 3
   },
   "file_extension": ".py",
   "mimetype": "text/x-python",
   "name": "python",
   "nbconvert_exporter": "python",
   "pygments_lexer": "ipython3",
   "version": "3.9.12"
  }
 },
 "nbformat": 4,
 "nbformat_minor": 5
}
