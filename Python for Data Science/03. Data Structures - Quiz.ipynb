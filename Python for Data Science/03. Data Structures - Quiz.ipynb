{
 "cells": [
  {
   "cell_type": "code",
   "execution_count": 4,
   "id": "23b4bb47",
   "metadata": {},
   "outputs": [],
   "source": [
    "Q1-What is the correct way to access the last element of a Python list?\n",
    "\n",
    "A. list[-1]\n",
    "\n",
    "Q2-Which of the following methods is used to add an element to the end of a Python list?\n",
    "\n",
    "A. list.append()\n",
    "\n",
    "Q3-How do you access an element in a specific row and column of a multidimensional list in Python?\n",
    "\n",
    "D. list[row][column]\n",
    "\n",
    "Q4-What is the purpose of list comprehension in Python?\n",
    "\n",
    "A. To create a new list by modifying the existing list.\n",
    "\n",
    "Q5-How do you use list comprehension to create a list of squares for even numbers from 1 to 10?\n",
    "\n",
    "D. [x ** 2 for x in range(1, 11) if x % 2 == 0]\n",
    "\n",
    "Q6-How do you use dictionary comprehension in Python to create a dictionary with the squares of numbers from 1 to 5?\n",
    "\n",
    "D. {x: x ** 2 for x in range(1, 6)}\n",
    "\n",
    "Q7-What will be the output of the following code snippet?\n",
    "Python Code\n",
    "print(type(5 / 2))\n",
    "print(type(5 // 2))\n",
    "\n",
    "float int\n",
    "\n",
    "Q8-How do you access the value associated with a specific key in a Python dictionary?\n",
    "\n",
    "A. Using the get() method\n",
    "\n",
    "Q9-What is the key characteristic of a Python set?\n",
    "\n",
    "A. Sets do not allow duplicate elements.\n",
    "\n",
    "Q10-Which of the following statements is true regarding Python tuples?\n",
    "\n",
    "B. Tuples can be used as keys in dictionaries.\n",
    "C. Elements in a tuple can be accessed using indices.\n",
    "D. Tuples allow duplicate elements."
   ]
  }
 ],
 "metadata": {
  "kernelspec": {
   "display_name": "Python 3 (ipykernel)",
   "language": "python",
   "name": "python3"
  },
  "language_info": {
   "codemirror_mode": {
    "name": "ipython",
    "version": 3
   },
   "file_extension": ".py",
   "mimetype": "text/x-python",
   "name": "python",
   "nbconvert_exporter": "python",
   "pygments_lexer": "ipython3",
   "version": "3.9.12"
  }
 },
 "nbformat": 4,
 "nbformat_minor": 5
}
